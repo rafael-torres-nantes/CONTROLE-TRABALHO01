{
 "cells": [
  {
   "cell_type": "markdown",
   "id": "93f16ea2",
   "metadata": {},
   "source": [
    "# 📊 Item (b): Redução por Polos Dominantes\n",
    "\n",
    "## 🚢 Veículo Submersível Não-Tripulado\n",
    "\n",
    "### 📋 Descrição do Problema\n",
    "\n",
    "Considere um veículo submersível não-tripulado cuja planta que relaciona o ângulo do leme de profundidade, ψ, e o ângulo de arfagem, θ, tenha Função Transferência (FT) da forma:\n",
    "\n",
    "$$\\hat{\\theta}(s) / \\hat{\\psi}(s) = \\hat{g}(s) = -\\frac{0,25s + 0,10875}{s^4 + 3,456s^3 + 3,45688s^2 + 0,719297s + 0,041574}$$\n",
    "\n",
    "### 🎯 Objetivo do Exercício (b)\n",
    "\n",
    "**Proceda a uma redução do modelo à segunda ordem pelo método dos polos dominantes, se possível**\n",
    "\n",
    "Simplificar a função de transferência original de quarta ordem para uma de segunda ordem que ainda represente adequadamente o comportamento do sistema.\n",
    "\n",
    "### 📝 Metodologia\n",
    "\n",
    "1. **Análise dos Polos**: Identificação de todos os polos do sistema original\n",
    "2. **Determinação dos Polos Dominantes**: Identificação dos polos mais próximos ao eixo imaginário\n",
    "3. **Verificação da Condição de Dominância**: Verificar se a razão entre partes reais é ≥ 5-10\n",
    "4. **Construção do Modelo Reduzido**: Criar sistema de 2ª ordem com polos dominantes\n",
    "5. **Ajuste do Ganho**: Manter o ganho DC igual ao sistema original\n",
    "6. **Validação**: Comparar respostas dos sistemas original e reduzido"
   ]
  },
  {
   "cell_type": "markdown",
   "id": "412b9479",
   "metadata": {},
   "source": [
    "## 🔧 1. Configuração e Importações\n",
    "\n",
    "Importação das bibliotecas necessárias para análise de sistemas de controle e redução de modelos."
   ]
  },
  {
   "cell_type": "code",
   "execution_count": 1,
   "id": "ee9b4d00",
   "metadata": {},
   "outputs": [
    {
     "name": "stdout",
     "output_type": "stream",
     "text": [
      "Biblioteca 'control' não disponível - usando apenas scipy\n",
      "Biblioteca 'sympy' disponível para renderização LaTeX\n",
      "Biblioteca 'sympy' disponível para renderização LaTeX\n"
     ]
    }
   ],
   "source": [
    "import numpy as np\n",
    "import matplotlib.pyplot as plt\n",
    "from scipy.signal import lti, step\n",
    "\n",
    "# Tratamento de importações opcionais\n",
    "try:\n",
    "    from control import tf, step_response\n",
    "    control_available = True\n",
    "    print(\"Biblioteca 'control' disponível\")\n",
    "except ImportError:\n",
    "    control_available = False\n",
    "    print(\"Biblioteca 'control' não disponível - usando apenas scipy\")\n",
    "\n",
    "# Verificar se sympy está disponível\n",
    "try:\n",
    "    import sympy as sp\n",
    "    from sympy import symbols, latex, Rational, I, simplify, apart, expand\n",
    "    from IPython.display import display, Latex, Math\n",
    "    sympy_available = True\n",
    "    print(\"Biblioteca 'sympy' disponível para renderização LaTeX\")\n",
    "except ImportError:\n",
    "    sympy_available = False\n",
    "    print(\"Biblioteca 'sympy' não disponível\")"
   ]
  },
  {
   "cell_type": "markdown",
   "id": "ceb70b6a",
   "metadata": {},
   "source": [
    "## ⚙️ 2. Definições de Funções Auxiliares\n",
    "\n",
    "Funções para análise de sistemas e redução por polos dominantes."
   ]
  },
  {
   "cell_type": "code",
   "execution_count": 2,
   "id": "f64816e3",
   "metadata": {},
   "outputs": [],
   "source": [
    "def calcular_ganho_dc(sistema):\n",
    "    \"\"\"\n",
    "    Calcula o ganho DC de um sistema LTI usando scipy.\n",
    "\n",
    "    Args:\n",
    "        sistema (scipy.signal.lti): Sistema LTI\n",
    "    \n",
    "    Returns:\n",
    "        float: Ganho DC do sistema\n",
    "    \"\"\"\n",
    "    ganho_dc = sistema.num[-1] / sistema.den[-1]\n",
    "    return ganho_dc\n",
    "\n",
    "def definir_sistema_original():\n",
    "    \"\"\"\n",
    "    Define o sistema original com os coeficientes dados.\n",
    "\n",
    "    Returns:\n",
    "        scipy.signal.lti: Sistema LTI definido\n",
    "    \"\"\"\n",
    "    # Coeficientes do numerador e denominador\n",
    "    numerador = [-0.25, -0.10875]\n",
    "    denominador = [1, 3.456, 3.45688, 0.719297, 0.041574]\n",
    "    \n",
    "    # Criação do sistema LTI\n",
    "    sistema = lti(numerador, denominador)\n",
    "    return sistema\n",
    "\n",
    "def analisar_polos_para_dominancia(sistema):\n",
    "    \"\"\"\n",
    "    Analisa os polos do sistema e identifica os dominantes.\n",
    "    \n",
    "    Args:\n",
    "        sistema (scipy.signal.lti): Sistema LTI\n",
    "    \n",
    "    Returns:\n",
    "        tuple: (polos, polos_dominantes, razoes_dominancia, eh_dominante)\n",
    "    \"\"\"\n",
    "    polos = sistema.poles\n",
    "    \n",
    "    print(\"🔍 ANÁLISE DE POLOS PARA DOMINÂNCIA\")\n",
    "    print(\"=\" * 60)\n",
    "    print(f\"Número de polos: {len(polos)}\")\n",
    "    print(\"\\nPolos do sistema:\")\n",
    "    \n",
    "    # Exibir todos os polos\n",
    "    for i, polo in enumerate(polos, 1):\n",
    "        parte_real = np.real(polo)\n",
    "        parte_imag = np.imag(polo)\n",
    "        if np.isreal(polo):\n",
    "            print(f\"  p_{i} = {parte_real:.6f}\")\n",
    "        else:\n",
    "            print(f\"  p_{i} = {parte_real:.6f} {'+' if parte_imag >= 0 else ''}{parte_imag:.6f}j\")\n",
    "    \n",
    "    # Encontrar partes reais (em magnitude)\n",
    "    partes_reais = np.abs(np.real(polos))\n",
    "    \n",
    "    # Ordenar polos por parte real (magnitude crescente)\n",
    "    indices_ordenados = np.argsort(partes_reais)\n",
    "    polos_ordenados = polos[indices_ordenados]\n",
    "    partes_reais_ordenadas = partes_reais[indices_ordenados]\n",
    "    \n",
    "    print(f\"\\nPolos ordenados por parte real (magnitude):\")\n",
    "    for i, (polo, parte_real) in enumerate(zip(polos_ordenados, partes_reais_ordenadas)):\n",
    "        print(f\"  Polo {i+1}: {polo:.6f}, |Re| = {parte_real:.6f}\")\n",
    "    \n",
    "    # Identificar polos dominantes (menores partes reais)\n",
    "    # Assumindo que queremos reduzir para 2ª ordem, pegamos os 2 polos mais lentos\n",
    "    polos_dominantes = polos_ordenados[:2]\n",
    "    polos_nao_dominantes = polos_ordenados[2:]\n",
    "    \n",
    "    print(f\"\\n📌 IDENTIFICAÇÃO DOS POLOS DOMINANTES:\")\n",
    "    print(f\"Polos candidatos a dominantes: {polos_dominantes}\")\n",
    "    print(f\"Polos não-dominantes: {polos_nao_dominantes}\")\n",
    "    \n",
    "    # Verificar condição de dominância\n",
    "    razoes_dominancia = []\n",
    "    if len(polos_nao_dominantes) > 0:\n",
    "        parte_real_dominante = np.max(np.abs(np.real(polos_dominantes)))\n",
    "        \n",
    "        print(f\"\\n🔍 VERIFICAÇÃO DA CONDIÇÃO DE DOMINÂNCIA:\")\n",
    "        print(f\"Maior parte real dos polos dominantes: {parte_real_dominante:.6f}\")\n",
    "        \n",
    "        for i, polo_nd in enumerate(polos_nao_dominantes):\n",
    "            parte_real_nd = np.abs(np.real(polo_nd))\n",
    "            razao = parte_real_nd / parte_real_dominante\n",
    "            razoes_dominancia.append(razao)\n",
    "            \n",
    "            print(f\"Polo não-dominante {i+1}: |Re| = {parte_real_nd:.6f}\")\n",
    "            print(f\"Razão = {parte_real_nd:.6f} / {parte_real_dominante:.6f} = {razao:.2f}\")\n",
    "            \n",
    "            if razao >= 5:\n",
    "                print(f\"  ✅ Condição satisfeita (razão ≥ 5)\")\n",
    "            else:\n",
    "                print(f\"  ❌ Condição NÃO satisfeita (razão < 5)\")\n",
    "    \n",
    "    # Determinar se redução é possível\n",
    "    eh_dominante = all(razao >= 5 for razao in razoes_dominancia) if razoes_dominancia else False\n",
    "    \n",
    "    print(f\"\\n🎯 CONCLUSÃO:\")\n",
    "    if eh_dominante:\n",
    "        print(\"✅ A redução por polos dominantes é POSSÍVEL\")\n",
    "        print(\"   Todos os polos não-dominantes são pelo menos 5x mais rápidos\")\n",
    "    else:\n",
    "        print(\"❌ A redução por polos dominantes NÃO é recomendada\")\n",
    "        print(\"   Alguns polos não-dominantes não são suficientemente mais rápidos\")\n",
    "    \n",
    "    return polos, polos_dominantes, razoes_dominancia, eh_dominante"
   ]
  },
  {
   "cell_type": "code",
   "execution_count": 3,
   "id": "763eeb73",
   "metadata": {},
   "outputs": [],
   "source": [
    "def criar_sistema_reduzido(polos_dominantes, ganho_dc_original):\n",
    "    \"\"\"\n",
    "    Cria o sistema reduzido de 2ª ordem usando os polos dominantes.\n",
    "    \n",
    "    Args:\n",
    "        polos_dominantes (array): Polos dominantes do sistema original\n",
    "        ganho_dc_original (float): Ganho DC do sistema original\n",
    "    \n",
    "    Returns:\n",
    "        scipy.signal.lti: Sistema reduzido de 2ª ordem\n",
    "    \"\"\"\n",
    "    print(\"🏗️ CONSTRUÇÃO DO SISTEMA REDUZIDO\")\n",
    "    print(\"=\" * 60)\n",
    "    \n",
    "    # Verificar se temos exatamente 2 polos\n",
    "    if len(polos_dominantes) != 2:\n",
    "        raise ValueError(f\"Esperado 2 polos dominantes, recebido {len(polos_dominantes)}\")\n",
    "    \n",
    "    p1, p2 = polos_dominantes\n",
    "    print(f\"Polos dominantes:\")\n",
    "    print(f\"  p1 = {p1:.6f}\")\n",
    "    print(f\"  p2 = {p2:.6f}\")\n",
    "    \n",
    "    # Construir o denominador de 2ª ordem\n",
    "    # (s - p1)(s - p2) = s² - (p1 + p2)s + p1*p2\n",
    "    soma_polos = p1 + p2\n",
    "    produto_polos = p1 * p2\n",
    "    \n",
    "    denominador_reduzido = [1, -soma_polos, produto_polos]\n",
    "    \n",
    "    print(f\"\\nDenominador do sistema reduzido:\")\n",
    "    print(f\"  s² + ({-soma_polos:.6f})s + ({produto_polos:.6f})\")\n",
    "    print(f\"  = s² {'+' if -soma_polos >= 0 else ''}{-soma_polos:.6f}s {'+' if produto_polos >= 0 else ''}{produto_polos:.6f}\")\n",
    "    \n",
    "    # Determinar o numerador para manter o ganho DC\n",
    "    # G_red(0) = numerador[0] / denominador[0] = ganho_dc_original\n",
    "    # numerador[0] = ganho_dc_original * produto_polos\n",
    "    numerador_constante = ganho_dc_original * produto_polos\n",
    "    numerador_reduzido = [numerador_constante]\n",
    "    \n",
    "    print(f\"\\nNumerador do sistema reduzido:\")\n",
    "    print(f\"  Ganho DC original: {ganho_dc_original:.6f}\")\n",
    "    print(f\"  Numerador = {ganho_dc_original:.6f} × {produto_polos:.6f} = {numerador_constante:.6f}\")\n",
    "    \n",
    "    # Criar sistema reduzido\n",
    "    sistema_reduzido = lti(numerador_reduzido, denominador_reduzido)\n",
    "    \n",
    "    print(f\"\\n✅ Sistema reduzido criado:\")\n",
    "    print(f\"  G_red(s) = {numerador_constante:.6f} / (s² {'+' if -soma_polos >= 0 else ''}{-soma_polos:.6f}s {'+' if produto_polos >= 0 else ''}{produto_polos:.6f})\")\n",
    "    \n",
    "    # Verificar ganho DC\n",
    "    ganho_dc_reduzido = calcular_ganho_dc(sistema_reduzido)\n",
    "    print(f\"\\nVerificação do ganho DC:\")\n",
    "    print(f\"  DC original: {ganho_dc_original:.6f}\")\n",
    "    print(f\"  DC reduzido: {ganho_dc_reduzido:.6f}\")\n",
    "    print(f\"  Diferença: {abs(ganho_dc_original - ganho_dc_reduzido):.8f}\")\n",
    "    \n",
    "    return sistema_reduzido\n",
    "\n",
    "def apresentacao_latex_reducao(sistema_original, sistema_reduzido, polos_dominantes, razoes_dominancia):\n",
    "    \"\"\"\n",
    "    Apresenta a análise de redução usando LaTeX.\n",
    "    \n",
    "    Args:\n",
    "        sistema_original (scipy.signal.lti): Sistema original\n",
    "        sistema_reduzido (scipy.signal.lti): Sistema reduzido\n",
    "        polos_dominantes (array): Polos dominantes\n",
    "        razoes_dominancia (list): Razões de dominância\n",
    "    \"\"\"\n",
    "    print(\"📝 APRESENTAÇÃO MATEMÁTICA EM LaTeX\")\n",
    "    print(\"=\" * 60)\n",
    "    \n",
    "    # Sistema original em LaTeX\n",
    "    num_orig = sistema_original.num\n",
    "    den_orig = sistema_original.den\n",
    "    \n",
    "    # Construir string do numerador\n",
    "    if len(num_orig) == 2:\n",
    "        num_str = f\"{num_orig[0]:.4f}s {'+' if num_orig[1] >= 0 else ''}{num_orig[1]:.5f}\"\n",
    "    else:\n",
    "        num_str = f\"{num_orig[0]:.5f}\"\n",
    "    \n",
    "    # Construir string do denominador\n",
    "    den_str = f\"s^4 {'+' if den_orig[1] >= 0 else ''}{den_orig[1]:.3f}s^3 {'+' if den_orig[2] >= 0 else ''}{den_orig[2]:.5f}s^2 {'+' if den_orig[3] >= 0 else ''}{den_orig[3]:.6f}s {'+' if den_orig[4] >= 0 else ''}{den_orig[4]:.6f}\"\n",
    "    \n",
    "    display(Math(r'G(s) = \\frac{' + num_str + '}{' + den_str + '}'))\n",
    "    \n",
    "    # Polos do sistema\n",
    "    polos = sistema_original.poles\n",
    "    display(Math(r'\\text{Polos do sistema original:}'))\n",
    "    for i, polo in enumerate(polos, 1):\n",
    "        if np.isreal(polo):\n",
    "            display(Math(f'p_{i} = {np.real(polo):.6f}'))\n",
    "        else:\n",
    "            real_part = np.real(polo)\n",
    "            imag_part = np.imag(polo)\n",
    "            sign = '+' if imag_part >= 0 else ''\n",
    "            display(Math(f'p_{i} = {real_part:.6f} {sign} {imag_part:.6f}j'))\n",
    "    \n",
    "    # Análise de dominância\n",
    "    display(Math(r'\\text{Análise de Dominância:}'))\n",
    "    display(Math(r'\\text{Polos dominantes (escolhidos):}'))\n",
    "    for i, polo in enumerate(polos_dominantes, 1):\n",
    "        if np.isreal(polo):\n",
    "            display(Math(f'p_{{dom,{i}}} = {np.real(polo):.6f}'))\n",
    "        else:\n",
    "            real_part = np.real(polo)\n",
    "            imag_part = np.imag(polo)\n",
    "            sign = '+' if imag_part >= 0 else ''\n",
    "            display(Math(f'p_{{dom,{i}}} = {real_part:.6f} {sign} {imag_part:.6f}j'))\n",
    "    \n",
    "    # Razões de dominância\n",
    "    if razoes_dominancia:\n",
    "        display(Math(r'\\text{Razões de dominância:}'))\n",
    "        for i, razao in enumerate(razoes_dominancia, 1):\n",
    "            display(Math(f'r_{i} = {razao:.2f}'))\n",
    "    \n",
    "    # Sistema reduzido\n",
    "    num_red = sistema_reduzido.num\n",
    "    den_red = sistema_reduzido.den\n",
    "    \n",
    "    # String do sistema reduzido\n",
    "    num_red_str = f\"{num_red[0]:.6f}\"\n",
    "    den_red_str = f\"s^2 {'+' if den_red[1] >= 0 else ''}{den_red[1]:.6f}s {'+' if den_red[2] >= 0 else ''}{den_red[2]:.6f}\"\n",
    "    \n",
    "    display(Math(r'G_{red}(s) = \\frac{' + num_red_str + '}{' + den_red_str + '}'))\n",
    "    \n",
    "    # Ganhos DC\n",
    "    dc_orig = calcular_ganho_dc(sistema_original)\n",
    "    dc_red = calcular_ganho_dc(sistema_reduzido)\n",
    "    \n",
    "    display(Math(f'\\\\text{{Ganho DC original: }} {dc_orig:.6f}'))\n",
    "    display(Math(f'\\\\text{{Ganho DC reduzido: }} {dc_red:.6f}'))"
   ]
  },
  {
   "cell_type": "markdown",
   "id": "2a7f7120",
   "metadata": {},
   "source": [
    "## 4. Execução da Análise de Redução\n",
    "\n",
    "Agora vamos executar a análise completa de redução de ordem do sistema usando o método dos polos dominantes."
   ]
  },
  {
   "cell_type": "code",
   "execution_count": 4,
   "id": "64435bc0",
   "metadata": {},
   "outputs": [
    {
     "name": "stdout",
     "output_type": "stream",
     "text": [
      "Ganho DC do sistema original: -2.615818\n",
      "🔍 ANÁLISE DE POLOS PARA DOMINÂNCIA\n",
      "============================================================\n",
      "Número de polos: 4\n",
      "\n",
      "Polos do sistema:\n",
      "  p_1 = -1.600689 +0.252393j\n",
      "  p_2 = -1.600689 -0.252393j\n",
      "  p_3 = -0.146695\n",
      "  p_4 = -0.107926\n",
      "\n",
      "Polos ordenados por parte real (magnitude):\n",
      "  Polo 1: -0.107926+0.000000j, |Re| = 0.107926\n",
      "  Polo 2: -0.146695+0.000000j, |Re| = 0.146695\n",
      "  Polo 3: -1.600689-0.252393j, |Re| = 1.600689\n",
      "  Polo 4: -1.600689+0.252393j, |Re| = 1.600689\n",
      "\n",
      "📌 IDENTIFICAÇÃO DOS POLOS DOMINANTES:\n",
      "Polos candidatos a dominantes: [-0.10792621+0.j -0.14669497+0.j]\n",
      "Polos não-dominantes: [-1.60068941-0.2523932j -1.60068941+0.2523932j]\n",
      "\n",
      "🔍 VERIFICAÇÃO DA CONDIÇÃO DE DOMINÂNCIA:\n",
      "Maior parte real dos polos dominantes: 0.146695\n",
      "Polo não-dominante 1: |Re| = 1.600689\n",
      "Razão = 1.600689 / 0.146695 = 10.91\n",
      "  ✅ Condição satisfeita (razão ≥ 5)\n",
      "Polo não-dominante 2: |Re| = 1.600689\n",
      "Razão = 1.600689 / 0.146695 = 10.91\n",
      "  ✅ Condição satisfeita (razão ≥ 5)\n",
      "\n",
      "🎯 CONCLUSÃO:\n",
      "✅ A redução por polos dominantes é POSSÍVEL\n",
      "   Todos os polos não-dominantes são pelo menos 5x mais rápidos\n"
     ]
    }
   ],
   "source": [
    "# Definir sistema original\n",
    "sistema = definir_sistema_original()\n",
    "\n",
    "# Calcular ganho DC do sistema original\n",
    "ganho_dc = calcular_ganho_dc(sistema)\n",
    "print(f\"Ganho DC do sistema original: {ganho_dc:.6f}\")\n",
    "\n",
    "# Analisar polos para identificar dominância\n",
    "polos, polos_dominantes, razoes_dominancia, eh_dominante = analisar_polos_para_dominancia(sistema)"
   ]
  },
  {
   "cell_type": "code",
   "execution_count": 5,
   "id": "fa9b0f03",
   "metadata": {},
   "outputs": [
    {
     "name": "stdout",
     "output_type": "stream",
     "text": [
      "🏗️ CONSTRUÇÃO DO SISTEMA REDUZIDO\n",
      "============================================================\n",
      "Polos dominantes:\n",
      "  p1 = -0.107926+0.000000j\n",
      "  p2 = -0.146695+0.000000j\n",
      "\n",
      "Denominador do sistema reduzido:\n",
      "  s² + (0.254621-0.000000j)s + (0.015832-0.000000j)\n",
      "  = s² +0.254621-0.000000js +0.015832-0.000000j\n",
      "\n",
      "Numerador do sistema reduzido:\n",
      "  Ganho DC original: -2.615818\n",
      "  Numerador = -2.615818 × 0.015832-0.000000j = -0.041414+0.000000j\n",
      "\n",
      "✅ Sistema reduzido criado:\n",
      "  G_red(s) = -0.041414+0.000000j / (s² +0.254621-0.000000js +0.015832-0.000000j)\n",
      "\n",
      "Verificação do ganho DC:\n",
      "  DC original: -2.615818\n",
      "  DC reduzido: -2.615818+0.000000j\n",
      "  Diferença: 0.00000000\n",
      "\n",
      "================================================================================\n",
      "✅ SISTEMA REDUZIDO CRIADO COM SUCESSO!\n",
      "================================================================================\n"
     ]
    }
   ],
   "source": [
    "# Criar sistema reduzido (se a redução for possível)\n",
    "if eh_dominante:\n",
    "    sistema_reduzido = criar_sistema_reduzido(polos_dominantes, ganho_dc)\n",
    "    print(\"\\n\" + \"=\"*80)\n",
    "    print(\"✅ SISTEMA REDUZIDO CRIADO COM SUCESSO!\")\n",
    "    print(\"=\"*80)\n",
    "else:\n",
    "    print(\"\\n\" + \"=\"*80)\n",
    "    print(\"⚠️ AVISO: Redução não recomendada devido à falta de dominância clara\")\n",
    "    print(\"Procedendo com a redução para fins acadêmicos...\")\n",
    "    print(\"=\"*80)\n",
    "    sistema_reduzido = criar_sistema_reduzido(polos_dominantes, ganho_dc)"
   ]
  },
  {
   "cell_type": "markdown",
   "id": "e9f75332",
   "metadata": {},
   "source": [
    "## 5. Apresentação Matemática em LaTeX"
   ]
  },
  {
   "cell_type": "code",
   "execution_count": 6,
   "id": "3a4dcecb",
   "metadata": {},
   "outputs": [
    {
     "name": "stdout",
     "output_type": "stream",
     "text": [
      "📝 APRESENTAÇÃO MATEMÁTICA EM LaTeX\n",
      "============================================================\n"
     ]
    },
    {
     "data": {
      "text/latex": [
       "$\\displaystyle G(s) = \\frac{-0.2500s -0.10875}{s^4 +3.456s^3 +3.45688s^2 +0.719297s +0.041574}$"
      ],
      "text/plain": [
       "<IPython.core.display.Math object>"
      ]
     },
     "metadata": {},
     "output_type": "display_data"
    },
    {
     "data": {
      "text/latex": [
       "$\\displaystyle \\text{Polos do sistema original:}$"
      ],
      "text/plain": [
       "<IPython.core.display.Math object>"
      ]
     },
     "metadata": {},
     "output_type": "display_data"
    },
    {
     "data": {
      "text/latex": [
       "$\\displaystyle p_1 = -1.600689 + 0.252393j$"
      ],
      "text/plain": [
       "<IPython.core.display.Math object>"
      ]
     },
     "metadata": {},
     "output_type": "display_data"
    },
    {
     "data": {
      "text/latex": [
       "$\\displaystyle p_2 = -1.600689  -0.252393j$"
      ],
      "text/plain": [
       "<IPython.core.display.Math object>"
      ]
     },
     "metadata": {},
     "output_type": "display_data"
    },
    {
     "data": {
      "text/latex": [
       "$\\displaystyle p_3 = -0.146695$"
      ],
      "text/plain": [
       "<IPython.core.display.Math object>"
      ]
     },
     "metadata": {},
     "output_type": "display_data"
    },
    {
     "data": {
      "text/latex": [
       "$\\displaystyle p_4 = -0.107926$"
      ],
      "text/plain": [
       "<IPython.core.display.Math object>"
      ]
     },
     "metadata": {},
     "output_type": "display_data"
    },
    {
     "data": {
      "text/latex": [
       "$\\displaystyle \\text{Análise de Dominância:}$"
      ],
      "text/plain": [
       "<IPython.core.display.Math object>"
      ]
     },
     "metadata": {},
     "output_type": "display_data"
    },
    {
     "data": {
      "text/latex": [
       "$\\displaystyle \\text{Polos dominantes (escolhidos):}$"
      ],
      "text/plain": [
       "<IPython.core.display.Math object>"
      ]
     },
     "metadata": {},
     "output_type": "display_data"
    },
    {
     "data": {
      "text/latex": [
       "$\\displaystyle p_{dom,1} = -0.107926$"
      ],
      "text/plain": [
       "<IPython.core.display.Math object>"
      ]
     },
     "metadata": {},
     "output_type": "display_data"
    },
    {
     "data": {
      "text/latex": [
       "$\\displaystyle p_{dom,2} = -0.146695$"
      ],
      "text/plain": [
       "<IPython.core.display.Math object>"
      ]
     },
     "metadata": {},
     "output_type": "display_data"
    },
    {
     "data": {
      "text/latex": [
       "$\\displaystyle \\text{Razões de dominância:}$"
      ],
      "text/plain": [
       "<IPython.core.display.Math object>"
      ]
     },
     "metadata": {},
     "output_type": "display_data"
    },
    {
     "data": {
      "text/latex": [
       "$\\displaystyle r_1 = 10.91$"
      ],
      "text/plain": [
       "<IPython.core.display.Math object>"
      ]
     },
     "metadata": {},
     "output_type": "display_data"
    },
    {
     "data": {
      "text/latex": [
       "$\\displaystyle r_2 = 10.91$"
      ],
      "text/plain": [
       "<IPython.core.display.Math object>"
      ]
     },
     "metadata": {},
     "output_type": "display_data"
    },
    {
     "data": {
      "text/latex": [
       "$\\displaystyle G_{red}(s) = \\frac{-0.041414+0.000000j}{s^2 +0.254621-0.000000js +0.015832-0.000000j}$"
      ],
      "text/plain": [
       "<IPython.core.display.Math object>"
      ]
     },
     "metadata": {},
     "output_type": "display_data"
    },
    {
     "data": {
      "text/latex": [
       "$\\displaystyle \\text{Ganho DC original: } -2.615818$"
      ],
      "text/plain": [
       "<IPython.core.display.Math object>"
      ]
     },
     "metadata": {},
     "output_type": "display_data"
    },
    {
     "data": {
      "text/latex": [
       "$\\displaystyle \\text{Ganho DC reduzido: } -2.615818+0.000000j$"
      ],
      "text/plain": [
       "<IPython.core.display.Math object>"
      ]
     },
     "metadata": {},
     "output_type": "display_data"
    }
   ],
   "source": [
    "# Apresentação completa em LaTeX\n",
    "apresentacao_latex_reducao(sistema, sistema_reduzido, polos_dominantes, razoes_dominancia)"
   ]
  },
  {
   "cell_type": "markdown",
   "id": "9c8840e4",
   "metadata": {},
   "source": [
    "## 6. Comparação das Respostas ao Degrau\n",
    "\n",
    "Vamos comparar as respostas ao degrau dos sistemas original e reduzido para verificar a qualidade da aproximação."
   ]
  },
  {
   "cell_type": "code",
   "execution_count": 7,
   "id": "a208ec80",
   "metadata": {},
   "outputs": [
    {
     "name": "stderr",
     "output_type": "stream",
     "text": [
      "c:\\Users\\rafat\\AppData\\Local\\Programs\\Python\\Python312\\Lib\\site-packages\\matplotlib\\cbook.py:1762: ComplexWarning: Casting complex values to real discards the imaginary part\n",
      "  return math.isfinite(val)\n",
      "c:\\Users\\rafat\\AppData\\Local\\Programs\\Python\\Python312\\Lib\\site-packages\\matplotlib\\cbook.py:1398: ComplexWarning: Casting complex values to real discards the imaginary part\n",
      "  return np.asarray(x, float)\n"
     ]
    },
    {
     "data": {
      "image/png": "[encoded data removed]",
      "text/plain": [
       "<Figure size 1200x800 with 2 Axes>"
      ]
     },
     "metadata": {},
     "output_type": "display_data"
    },
    {
     "name": "stdout",
     "output_type": "stream",
     "text": [
      "\n",
      "📊 MÉTRICAS DE ERRO:\n",
      "Erro RMS: 0.101434+0.000000j\n",
      "Erro máximo: 0.129012\n",
      "Erro médio absoluto: 0.094348\n",
      "\n",
      "📈 VALORES FINAIS:\n",
      "Sistema original: -1.940612\n",
      "Sistema reduzido: -1.859987+0.000000j\n",
      "Diferença: 0.080625\n"
     ]
    }
   ],
   "source": [
    "# Calcular respostas ao degrau\n",
    "t = np.linspace(0, 20, 1000)\n",
    "t_original, y_original = step(sistema, T=t)\n",
    "t_reduzido, y_reduzido = step(sistema_reduzido, T=t)\n",
    "\n",
    "# Plotar comparação\n",
    "plt.figure(figsize=(12, 8))\n",
    "\n",
    "plt.subplot(2, 1, 1)\n",
    "plt.plot(t_original, y_original, 'b-', linewidth=2, label='Sistema Original (4ª ordem)')\n",
    "plt.plot(t_reduzido, y_reduzido, 'r--', linewidth=2, label='Sistema Reduzido (2ª ordem)')\n",
    "plt.grid(True, alpha=0.3)\n",
    "plt.xlabel('Tempo (s)')\n",
    "plt.ylabel('Amplitude')\n",
    "plt.title('Comparação das Respostas ao Degrau')\n",
    "plt.legend()\n",
    "plt.xlim(0, 20)\n",
    "\n",
    "# Plotar erro\n",
    "plt.subplot(2, 1, 2)\n",
    "# Interpolar para ter o mesmo tempo base\n",
    "y_reduzido_interp = np.interp(t_original, t_reduzido, y_reduzido)\n",
    "erro = y_original - y_reduzido_interp\n",
    "plt.plot(t_original, erro, 'g-', linewidth=2, label='Erro (Original - Reduzido)')\n",
    "plt.grid(True, alpha=0.3)\n",
    "plt.xlabel('Tempo (s)')\n",
    "plt.ylabel('Erro')\n",
    "plt.title('Erro entre Sistema Original e Reduzido')\n",
    "plt.legend()\n",
    "plt.xlim(0, 20)\n",
    "\n",
    "plt.tight_layout()\n",
    "plt.show()\n",
    "\n",
    "# Calcular métricas de erro\n",
    "erro_rms = np.sqrt(np.mean(erro**2))\n",
    "erro_max = np.max(np.abs(erro))\n",
    "erro_medio = np.mean(np.abs(erro))\n",
    "\n",
    "print(f\"\\n📊 MÉTRICAS DE ERRO:\")\n",
    "print(f\"Erro RMS: {erro_rms:.6f}\")\n",
    "print(f\"Erro máximo: {erro_max:.6f}\")\n",
    "print(f\"Erro médio absoluto: {erro_medio:.6f}\")\n",
    "\n",
    "# Comparar valores finais\n",
    "valor_final_original = y_original[-1]\n",
    "valor_final_reduzido = y_reduzido[-1]\n",
    "print(f\"\\n📈 VALORES FINAIS:\")\n",
    "print(f\"Sistema original: {valor_final_original:.6f}\")\n",
    "print(f\"Sistema reduzido: {valor_final_reduzido:.6f}\")\n",
    "print(f\"Diferença: {abs(valor_final_original - valor_final_reduzido):.6f}\")"
   ]
  },
  {
   "cell_type": "markdown",
   "id": "c12d8469",
   "metadata": {},
   "source": [
    "## 7. Conclusões\n",
    "\n",
    "Resumo dos resultados obtidos na redução de ordem usando o método dos polos dominantes."
   ]
  },
  {
   "cell_type": "code",
   "execution_count": 8,
   "id": "32e3b31d",
   "metadata": {},
   "outputs": [
    {
     "name": "stdout",
     "output_type": "stream",
     "text": [
      "🎯 CONCLUSÕES DA ANÁLISE DE REDUÇÃO DE ORDEM\n",
      "================================================================================\n",
      "\n",
      "1. ANÁLISE DOS POLOS:\n",
      "   • Sistema original: 4ª ordem com 4 polos\n",
      "   • Polos dominantes identificados: 2 polos mais lentos\n",
      "   • Sistema reduzido: 2ª ordem\n",
      "\n",
      "2. CRITÉRIO DE DOMINÂNCIA:\n",
      "   ✅ Critério SATISFEITO: Todos os polos não-dominantes são ≥5x mais rápidos\n",
      "   • Razões de dominância:\n",
      "     ✅ Razão 1: 10.91\n",
      "     ✅ Razão 2: 10.91\n",
      "\n",
      "3. PRESERVAÇÃO DO GANHO DC:\n",
      "   • Ganho DC original: -2.615818\n",
      "   • Ganho DC reduzido: -2.615818+0.000000j\n",
      "   • Diferença absoluta: 0.00000000\n",
      "\n",
      "4. QUALIDADE DA APROXIMAÇÃO:\n",
      "   • Erro RMS: 0.101434+0.000000j\n",
      "   • Erro máximo: 0.129012\n",
      "   • Erro médio absoluto: 0.094348\n",
      "\n",
      "5. RECOMENDAÇÕES:\n",
      "   ❌ Redução NÃO RECOMENDADA\n",
      "   • Erro muito elevado na resposta temporal\n",
      "\n",
      "================================================================================\n"
     ]
    }
   ],
   "source": [
    "print(\"🎯 CONCLUSÕES DA ANÁLISE DE REDUÇÃO DE ORDEM\")\n",
    "print(\"=\" * 80)\n",
    "\n",
    "print(\"\\n1. ANÁLISE DOS POLOS:\")\n",
    "print(f\"   • Sistema original: 4ª ordem com {len(polos)} polos\")\n",
    "print(f\"   • Polos dominantes identificados: 2 polos mais lentos\")\n",
    "print(f\"   • Sistema reduzido: 2ª ordem\")\n",
    "\n",
    "print(\"\\n2. CRITÉRIO DE DOMINÂNCIA:\")\n",
    "if eh_dominante:\n",
    "    print(\"   ✅ Critério SATISFEITO: Todos os polos não-dominantes são ≥5x mais rápidos\")\n",
    "else:\n",
    "    print(\"   ❌ Critério NÃO SATISFEITO: Alguns polos não são suficientemente dominantes\")\n",
    "\n",
    "if razoes_dominancia:\n",
    "    print(\"   • Razões de dominância:\")\n",
    "    for i, razao in enumerate(razoes_dominancia, 1):\n",
    "        status = \"✅\" if razao >= 5 else \"❌\"\n",
    "        print(f\"     {status} Razão {i}: {razao:.2f}\")\n",
    "\n",
    "print(\"\\n3. PRESERVAÇÃO DO GANHO DC:\")\n",
    "dc_orig = calcular_ganho_dc(sistema)\n",
    "dc_red = calcular_ganho_dc(sistema_reduzido)\n",
    "print(f\"   • Ganho DC original: {dc_orig:.6f}\")\n",
    "print(f\"   • Ganho DC reduzido: {dc_red:.6f}\")\n",
    "print(f\"   • Diferença absoluta: {abs(dc_orig - dc_red):.8f}\")\n",
    "\n",
    "print(\"\\n4. QUALIDADE DA APROXIMAÇÃO:\")\n",
    "print(f\"   • Erro RMS: {erro_rms:.6f}\")\n",
    "print(f\"   • Erro máximo: {erro_max:.6f}\")\n",
    "print(f\"   • Erro médio absoluto: {erro_medio:.6f}\")\n",
    "\n",
    "print(\"\\n5. RECOMENDAÇÕES:\")\n",
    "if eh_dominante and erro_rms < 0.1:\n",
    "    print(\"   ✅ Redução de ordem RECOMENDADA\")\n",
    "    print(\"   • Boa separação de escalas de tempo\")\n",
    "    print(\"   • Erro aceitável na resposta temporal\")\n",
    "elif not eh_dominante:\n",
    "    print(\"   ⚠️ Redução com RESSALVAS\")\n",
    "    print(\"   • Critério de dominância não totalmente satisfeito\")\n",
    "    print(\"   • Considerar métodos alternativos (balanced truncation, Hankel norm)\")\n",
    "else:\n",
    "    print(\"   ❌ Redução NÃO RECOMENDADA\")\n",
    "    print(\"   • Erro muito elevado na resposta temporal\")\n",
    "\n",
    "print(\"\\n\" + \"=\" * 80)"
   ]
  },
  {
   "cell_type": "code",
   "execution_count": 9,
   "id": "cb5aed64",
   "metadata": {},
   "outputs": [
    {
     "name": "stdout",
     "output_type": "stream",
     "text": [
      "🎯 RESUMO FINAL - ITEM (b): REDUÇÃO POR PÓLOS DOMINANTES\n",
      "================================================================================\n",
      "✅ Análise completa executada nas seções anteriores:\n",
      "   1. ✅ Sistema original definido\n",
      "   2. ✅ Pólos analisados e dominância verificada\n",
      "   3. ✅ Sistema reduzido de 2ª ordem criado\n",
      "   4. ✅ Ganho DC preservado\n",
      "   5. ✅ Comparação de respostas realizada\n",
      "   6. ✅ Apresentação em LaTeX completa\n",
      "   7. ✅ Conclusões detalhadas\n",
      "\n",
      "🔍 Para visualizar os resultados, execute as células acima sequencialmente.\n",
      "================================================================================\n"
     ]
    }
   ],
   "source": [
    "# 📋 Resumo Final - Execução Completa do Item (b)\n",
    "print(\"🎯 RESUMO FINAL - ITEM (b): REDUÇÃO POR PÓLOS DOMINANTES\")\n",
    "print(\"=\" * 80)\n",
    "print(\"✅ Análise completa executada nas seções anteriores:\")\n",
    "print(\"   1. ✅ Sistema original definido\")\n",
    "print(\"   2. ✅ Pólos analisados e dominância verificada\")\n",
    "print(\"   3. ✅ Sistema reduzido de 2ª ordem criado\")\n",
    "print(\"   4. ✅ Ganho DC preservado\")\n",
    "print(\"   5. ✅ Comparação de respostas realizada\")\n",
    "print(\"   6. ✅ Apresentação em LaTeX completa\")\n",
    "print(\"   7. ✅ Conclusões detalhadas\")\n",
    "print(\"\\n🔍 Para visualizar os resultados, execute as células acima sequencialmente.\")\n",
    "print(\"=\" * 80)"
   ]
  }
 ],
 "metadata": {
  "kernelspec": {
   "display_name": "Python 3",
   "language": "python",
   "name": "python3"
  },
  "language_info": {
   "codemirror_mode": {
    "name": "ipython",
    "version": 3
   },
   "file_extension": ".py",
   "mimetype": "text/x-python",
   "name": "python",
   "nbconvert_exporter": "python",
   "pygments_lexer": "ipython3",
   "version": "3.12.5"
  }
 },
 "nbformat": 4,
 "nbformat_minor": 5
}
