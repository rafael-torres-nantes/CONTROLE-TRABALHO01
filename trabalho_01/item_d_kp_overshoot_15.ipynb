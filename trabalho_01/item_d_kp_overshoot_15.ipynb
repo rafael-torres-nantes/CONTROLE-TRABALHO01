{
 "cells": [
  {
   "cell_type": "markdown",
   "id": "5c172d7f",
   "metadata": {},
   "source": [
    "# 📊 Item (d): Determinação de Kp para Overshoot de 15%\n",
    "\n",
    "## 🚢 Veículo Submersível Não-Tripulado\n",
    "\n",
    "### 📋 Descrição do Problema\n",
    "\n",
    "Considere um veículo submersível não-tripulado cuja planta que relaciona o ângulo do leme de profundidade, ψ, e o ângulo de arfagem, θ, tenha Função Transferência (FT) da forma:\n",
    "\n",
    "$$\\hat{\\theta}(s) / \\hat{\\psi}(s) = \\hat{g}(s) = -\\frac{0,25s + 0,10875}{s^4 + 3,456s^3 + 3,45688s^2 + 0,719297s + 0,041574}$$\n",
    "\n",
    "### 🎯 Objetivo do Exercício (d)\n",
    "\n",
    "**Na situação anterior (item c), determine Kp que faz o overshoot ser igual a 15%. Qual o tempo de acomodação esperado?**\n",
    "\n",
    "### 📝 Metodologia\n",
    "\n",
    "1. **Relação Overshoot-Amortecimento**: Usar fórmula $M_p = e^{\\left( \\frac{-\\zeta\\pi}{\\sqrt{1-\\zeta^2}} \\right)}$\n",
    "2. **Calcular ζ**: Resolver equação para Mp = 15% = 0.15\n",
    "3. **Determinar ωn**: Usar polinômio característico de malha fechada\n",
    "4. **Encontrar Kp**: Comparar com forma padrão $s^2 + 2\\zeta\\omega_n s + \\omega_n^2$\n",
    "5. **Calcular ts**: Usar critérios de 2% e 5% para tempo de acomodação\n",
    "6. **Validação**: Verificar se Kp está na faixa válida do item (c)\n",
    "\n",
    "### 🔍 Conceitos Teóricos\n",
    "\n",
    "**Overshoot (Mp)**: Máximo valor que a resposta ultrapassa o valor final  \n",
    "**Coeficiente de Amortecimento (ζ)**: Parâmetro que caracteriza o tipo de resposta  \n",
    "**Frequência Natural (ωn)**: Frequência de oscilação natural do sistema  \n",
    "**Tempo de Acomodação (ts)**: Tempo para a resposta se manter dentro de uma faixa em torno do valor final"
   ]
  },
  {
   "cell_type": "code",
   "execution_count": 12,
   "id": "8bd1d3d0",
   "metadata": {},
   "outputs": [],
   "source": [
    "# 🔧 1. Configuração e Importações\n",
    "# Importação das bibliotecas necessárias para análise de resposta transitória e cálculo de overshoot."
   ]
  },
  {
   "cell_type": "code",
   "execution_count": 13,
   "id": "70418cc7",
   "metadata": {},
   "outputs": [
    {
     "name": "stdout",
     "output_type": "stream",
     "text": [
      "✅ Biblioteca 'sympy' disponível para renderização LaTeX\n",
      "📦 Bibliotecas importadas com sucesso!\n"
     ]
    }
   ],
   "source": [
    "import numpy as np\n",
    "import matplotlib.pyplot as plt\n",
    "from scipy.signal import lti, step\n",
    "from scipy.optimize import fsolve\n",
    "import warnings\n",
    "warnings.filterwarnings('ignore')\n",
    "\n",
    "# Verificar se sympy está disponível para LaTeX\n",
    "try:\n",
    "    import sympy as sp\n",
    "    from sympy import symbols, latex, simplify, solve, log, exp, pi, sqrt\n",
    "    from IPython.display import display, Math\n",
    "    sympy_available = True\n",
    "    print(\"✅ Biblioteca 'sympy' disponível para renderização LaTeX\")\n",
    "except ImportError:\n",
    "    sympy_available = False\n",
    "    print(\"❌ Biblioteca 'sympy' não disponível\")\n",
    "\n",
    "# Configuração dos gráficos\n",
    "plt.rcParams['figure.figsize'] = (12, 8)\n",
    "plt.rcParams['font.size'] = 11\n",
    "plt.rcParams['grid.alpha'] = 0.3\n",
    "\n",
    "print(\"📦 Bibliotecas importadas com sucesso!\")"
   ]
  },
  {
   "cell_type": "code",
   "execution_count": 14,
   "id": "d03b7194",
   "metadata": {},
   "outputs": [],
   "source": [
    "# 📐 2. Definição de Funções Auxiliares\n",
    "# Funções para análise de overshoot e características de resposta transitória."
   ]
  },
  {
   "cell_type": "code",
   "execution_count": 15,
   "id": "c2cf3f47",
   "metadata": {},
   "outputs": [],
   "source": [
    "def definir_sistema_reduzido():\n",
    "    \"\"\"\n",
    "    Define o sistema reduzido de 2ª ordem obtido no item (b).\n",
    "    \n",
    "    G_red(s) = -0.2533 / (s² + 0.216s + 0.0969)\n",
    "    \n",
    "    Returns:\n",
    "        scipy.signal.lti: Sistema reduzido de 2ª ordem\n",
    "    \"\"\"\n",
    "    numerador = [-0.2533]\n",
    "    denominador = [1, 0.216, 0.0969]\n",
    "    sistema_reduzido = lti(numerador, denominador)\n",
    "    return sistema_reduzido\n",
    "\n",
    "def calcular_zeta_de_overshoot(Mp):\n",
    "    \"\"\"\n",
    "    Calcula o coeficiente de amortecimento ζ a partir do overshoot.\n",
    "    \n",
    "    Fórmula: Mp = exp(-ζπ/√(1-ζ²))\n",
    "    Resolvendo para ζ: ζ = √[ln²(Mp)/(π² + ln²(Mp))]\n",
    "    \n",
    "    Args:\n",
    "        Mp (float): Overshoot em formato decimal (0.15 para 15%)\n",
    "    \n",
    "    Returns:\n",
    "        float: Coeficiente de amortecimento ζ\n",
    "    \"\"\"\n",
    "    if Mp <= 0 or Mp >= 1:\n",
    "        raise ValueError(\"Overshoot deve estar entre 0 e 1 (0% e 100%)\")\n",
    "    \n",
    "    ln_Mp = np.log(Mp)\n",
    "    zeta = np.sqrt((ln_Mp**2) / (np.pi**2 + ln_Mp**2))\n",
    "    \n",
    "    return zeta\n",
    "\n",
    "def calcular_parametros_segunda_ordem(zeta, coef_2zeta_wn):\n",
    "    \"\"\"\n",
    "    Calcula ωn e outros parâmetros do sistema de 2ª ordem.\n",
    "    \n",
    "    Args:\n",
    "        zeta (float): Coeficiente de amortecimento\n",
    "        coef_2zeta_wn (float): Coeficiente 2ζωn do polinômio característico\n",
    "    \n",
    "    Returns:\n",
    "        tuple: (omega_n, omega_d, sigma, Tp, Ts_2pct, Ts_5pct)\n",
    "    \"\"\"\n",
    "    # Frequência natural\n",
    "    omega_n = coef_2zeta_wn / (2 * zeta)\n",
    "    \n",
    "    # Frequência natural amortecida\n",
    "    omega_d = omega_n * np.sqrt(1 - zeta**2)\n",
    "    \n",
    "    # Constante de tempo (parte real dos polos)\n",
    "    sigma = zeta * omega_n\n",
    "    \n",
    "    # Tempo de pico\n",
    "    Tp = np.pi / omega_d\n",
    "    \n",
    "    # Tempo de acomodação (critério 2%)\n",
    "    Ts_2pct = 4 / sigma\n",
    "    \n",
    "    # Tempo de acomodação (critério 5%)\n",
    "    Ts_5pct = 3 / sigma\n",
    "    \n",
    "    return omega_n, omega_d, sigma, Tp, Ts_2pct, Ts_5pct\n",
    "\n",
    "def calcular_kp_para_overshoot(Mp_desejado):\n",
    "    \"\"\"\n",
    "    Calcula o ganho Kp necessário para obter um overshoot específico.\n",
    "    \n",
    "    Args:\n",
    "        Mp_desejado (float): Overshoot desejado em formato decimal\n",
    "    \n",
    "    Returns:\n",
    "        tuple: (kp, zeta, omega_n, parametros_completos)\n",
    "    \"\"\"\n",
    "    # Passo 1: Calcular ζ a partir do overshoot\n",
    "    zeta = calcular_zeta_de_overshoot(Mp_desejado)\n",
    "    \n",
    "    # Coeficiente 2ζωn do sistema (do item c: 0.216)\n",
    "    coef_2zeta_wn = 0.216\n",
    "    \n",
    "    # Passo 2: Calcular parâmetros do sistema\n",
    "    omega_n, omega_d, sigma, Tp, Ts_2pct, Ts_5pct = calcular_parametros_segunda_ordem(zeta, coef_2zeta_wn)\n",
    "    \n",
    "    # Passo 3: Calcular Kp\n",
    "    # Do polinômio característico: s² + 0.216s + (0.0969 - 0.2533*Kp)\n",
    "    # Forma padrão: s² + 2ζωns + ωn²\n",
    "    # Portanto: ωn² = 0.0969 - 0.2533*Kp\n",
    "    # Kp = (0.0969 - ωn²) / 0.2533\n",
    "    \n",
    "    omega_n_squared = omega_n**2\n",
    "    kp = (0.0969 - omega_n_squared) / 0.2533\n",
    "    \n",
    "    parametros = {\n",
    "        'zeta': zeta,\n",
    "        'omega_n': omega_n,\n",
    "        'omega_d': omega_d,\n",
    "        'sigma': sigma,\n",
    "        'Tp': Tp,\n",
    "        'Ts_2pct': Ts_2pct,\n",
    "        'Ts_5pct': Ts_5pct,\n",
    "        'Mp': Mp_desejado,\n",
    "        'kp': kp\n",
    "    }\n",
    "    \n",
    "    return kp, zeta, omega_n, parametros\n",
    "\n",
    "def verificar_overshoot_simulacao(kp):\n",
    "    \"\"\"\n",
    "    Verifica o overshoot através de simulação da resposta ao degrau.\n",
    "    \n",
    "    Args:\n",
    "        kp (float): Ganho proporcional\n",
    "    \n",
    "    Returns:\n",
    "        tuple: (overshoot_percentual, tempo_pico, valor_pico, valor_final)\n",
    "    \"\"\"\n",
    "    # Sistema reduzido\n",
    "    sistema_reduzido = definir_sistema_reduzido()\n",
    "    \n",
    "    # Malha fechada\n",
    "    num_mf = np.array(sistema_reduzido.num) * kp\n",
    "    den_mf = np.array(sistema_reduzido.den) + np.pad(num_mf, (len(sistema_reduzido.den) - len(num_mf), 0), 'constant')\n",
    "    \n",
    "    sistema_mf = lti(num_mf, den_mf)\n",
    "    \n",
    "    # Simular resposta ao degrau\n",
    "    t, y = step(sistema_mf)\n",
    "    \n",
    "    # Encontrar valor final\n",
    "    valor_final = y[-1]\n",
    "    \n",
    "    # Encontrar pico\n",
    "    indice_pico = np.argmax(np.abs(y))\n",
    "    valor_pico = y[indice_pico]\n",
    "    tempo_pico = t[indice_pico]\n",
    "    \n",
    "    # Calcular overshoot\n",
    "    if valor_final != 0:\n",
    "        overshoot = abs((valor_pico - valor_final) / valor_final)\n",
    "    else:\n",
    "        overshoot = 0\n",
    "    \n",
    "    return overshoot, tempo_pico, valor_pico, valor_final, t, y"
   ]
  },
  {
   "cell_type": "code",
   "execution_count": 16,
   "id": "b37af257",
   "metadata": {},
   "outputs": [],
   "source": [
    "# 🧮 3. Análise Matemática para Overshoot de 15%\n",
    "# Cálculo rigoroso do ganho Kp para overshoot de 15% e determinação do tempo de acomodação."
   ]
  },
  {
   "cell_type": "code",
   "execution_count": 17,
   "id": "e8985c7b",
   "metadata": {},
   "outputs": [
    {
     "name": "stdout",
     "output_type": "stream",
     "text": [
      "🔍 ANÁLISE MATEMÁTICA DETALHADA\n",
      "================================================================================\n",
      "1. ESPECIFICAÇÕES DO PROBLEMA:\n",
      "   Overshoot desejado: 15.0%\n",
      "   Sistema: Malha fechada com controlador proporcional Kp\n",
      "   Base: Sistema reduzido de 2ª ordem (item b)\n",
      "\n",
      "2. RELAÇÃO OVERSHOOT-AMORTECIMENTO:\n",
      "   Para sistema de 2ª ordem subamortecido:\n",
      "   Mp = exp(-ζπ/√(1-ζ²))\n",
      "   Resolvendo para ζ:\n",
      "   ζ = √[ln²(Mp)/(π² + ln²(Mp))]\n",
      "\n",
      "   Substituindo Mp = 0.15:\n",
      "   ln(Mp) = ln(0.15) = -1.8971\n",
      "   ζ = √[(-1.8971)²/(π² + (-1.8971)²)]\n",
      "   ζ = √[3.5991/(9.8696 + 3.5991)]\n",
      "   ζ = √[3.5991/13.4687]\n",
      "   ζ = 0.5169\n",
      "\n",
      "3. POLINÔMIO CARACTERÍSTICO:\n",
      "   Do item (c): P(s) = s² + 0.216s + (0.0969 - 0.2533*Kp)\n",
      "   Forma padrão: s² + 2ζωₙs + ωₙ²\n",
      "   Comparando coeficientes:\n",
      "   • 2ζωₙ = 0.216\n",
      "   • ωₙ² = 0.0969 - 0.2533*Kp\n",
      "\n",
      "4. CÁLCULO DA FREQUÊNCIA NATURAL:\n",
      "   ωₙ = 0.216/(2ζ) = 0.216/(2×0.5169)\n",
      "   ωₙ = 0.216/1.0339 = 0.2089 rad/s\n",
      "   ωₙ² = (0.2089)² = 0.0436\n",
      "\n",
      "5. CÁLCULO DO GANHO PROPORCIONAL:\n",
      "   Da segunda relação: ωₙ² = 0.0969 - 0.2533*Kp\n",
      "   0.0436 = 0.0969 - 0.2533*Kp\n",
      "   0.2533*Kp = 0.0969 - 0.0436\n",
      "   0.2533*Kp = 0.0533\n",
      "   Kp = 0.0533/0.2533\n",
      "   Kp = 0.2102\n",
      "\n",
      "6. PARÂMETROS DE RESPOSTA TRANSITÓRIA:\n",
      "   • Frequência natural: ωₙ = 0.2089 rad/s\n",
      "   • Frequência amortecida: ωₐ = 0.1788 rad/s\n",
      "   • Constante de tempo: σ = ζωₙ = 0.1080\n",
      "   • Tempo de pico: Tp = π/ωₐ = 17.57 s\n",
      "\n",
      "7. TEMPO DE ACOMODAÇÃO:\n",
      "   • Critério 2%: ts = 4/σ = 4/0.1080 = 37.04 s\n",
      "   • Critério 5%: ts = 3/σ = 3/0.1080 = 27.78 s\n",
      "\n",
      "8. VALIDAÇÃO:\n",
      "   Faixa válida do item (c): 0 < Kp < 0.3365\n",
      "   Kp calculado = 0.2102\n",
      "   Status: ✓ VÁLIDO\n"
     ]
    }
   ],
   "source": [
    "def analise_matematica_completa():\n",
    "    \"\"\"\n",
    "    Realiza a análise matemática completa para determinar Kp\n",
    "    que resulta em overshoot de 15%.\n",
    "    \"\"\"\n",
    "    print(\"🔍 ANÁLISE MATEMÁTICA DETALHADA\")\n",
    "    print(\"=\" * 80)\n",
    "    \n",
    "    # Especificações do problema\n",
    "    Mp_desejado = 0.15  # 15% overshoot\n",
    "    \n",
    "    print(\"1. ESPECIFICAÇÕES DO PROBLEMA:\")\n",
    "    print(f\"   Overshoot desejado: {Mp_desejado*100:.1f}%\")\n",
    "    print(\"   Sistema: Malha fechada com controlador proporcional Kp\")\n",
    "    print(\"   Base: Sistema reduzido de 2ª ordem (item b)\")\n",
    "    \n",
    "    print(\"\\n2. RELAÇÃO OVERSHOOT-AMORTECIMENTO:\")\n",
    "    print(\"   Para sistema de 2ª ordem subamortecido:\")\n",
    "    print(\"   Mp = exp(-ζπ/√(1-ζ²))\")\n",
    "    print(\"   Resolvendo para ζ:\")\n",
    "    print(\"   ζ = √[ln²(Mp)/(π² + ln²(Mp))]\")\n",
    "    \n",
    "    # Calcular ζ\n",
    "    zeta = calcular_zeta_de_overshoot(Mp_desejado)\n",
    "    ln_Mp = np.log(Mp_desejado)\n",
    "    \n",
    "    print(f\"\\n   Substituindo Mp = {Mp_desejado}:\")\n",
    "    print(f\"   ln(Mp) = ln({Mp_desejado}) = {ln_Mp:.4f}\")\n",
    "    print(f\"   ζ = √[({ln_Mp:.4f})²/(π² + ({ln_Mp:.4f})²)]\")\n",
    "    print(f\"   ζ = √[{ln_Mp**2:.4f}/({np.pi**2:.4f} + {ln_Mp**2:.4f})]\")\n",
    "    print(f\"   ζ = √[{ln_Mp**2:.4f}/{np.pi**2 + ln_Mp**2:.4f}]\")\n",
    "    print(f\"   ζ = {zeta:.4f}\")\n",
    "    \n",
    "    print(\"\\n3. POLINÔMIO CARACTERÍSTICO:\")\n",
    "    print(\"   Do item (c): P(s) = s² + 0.216s + (0.0969 - 0.2533*Kp)\")\n",
    "    print(\"   Forma padrão: s² + 2ζωₙs + ωₙ²\")\n",
    "    print(\"   Comparando coeficientes:\")\n",
    "    print(\"   • 2ζωₙ = 0.216\")\n",
    "    print(\"   • ωₙ² = 0.0969 - 0.2533*Kp\")\n",
    "    \n",
    "    # Calcular ωₙ\n",
    "    omega_n = 0.216 / (2 * zeta)\n",
    "    omega_n_squared = omega_n**2\n",
    "    \n",
    "    print(f\"\\n4. CÁLCULO DA FREQUÊNCIA NATURAL:\")\n",
    "    print(f\"   ωₙ = 0.216/(2ζ) = 0.216/(2×{zeta:.4f})\")\n",
    "    print(f\"   ωₙ = 0.216/{2*zeta:.4f} = {omega_n:.4f} rad/s\")\n",
    "    print(f\"   ωₙ² = ({omega_n:.4f})² = {omega_n_squared:.4f}\")\n",
    "    \n",
    "    # Calcular Kp\n",
    "    kp = (0.0969 - omega_n_squared) / 0.2533\n",
    "    \n",
    "    print(f\"\\n5. CÁLCULO DO GANHO PROPORCIONAL:\")\n",
    "    print(f\"   Da segunda relação: ωₙ² = 0.0969 - 0.2533*Kp\")\n",
    "    print(f\"   {omega_n_squared:.4f} = 0.0969 - 0.2533*Kp\")\n",
    "    print(f\"   0.2533*Kp = 0.0969 - {omega_n_squared:.4f}\")\n",
    "    print(f\"   0.2533*Kp = {0.0969 - omega_n_squared:.4f}\")\n",
    "    print(f\"   Kp = {0.0969 - omega_n_squared:.4f}/0.2533\")\n",
    "    print(f\"   Kp = {kp:.4f}\")\n",
    "    \n",
    "    # Calcular parâmetros de resposta\n",
    "    omega_n, omega_d, sigma, Tp, Ts_2pct, Ts_5pct = calcular_parametros_segunda_ordem(zeta, 0.216)\n",
    "    \n",
    "    print(f\"\\n6. PARÂMETROS DE RESPOSTA TRANSITÓRIA:\")\n",
    "    print(f\"   • Frequência natural: ωₙ = {omega_n:.4f} rad/s\")\n",
    "    print(f\"   • Frequência amortecida: ωₐ = {omega_d:.4f} rad/s\")\n",
    "    print(f\"   • Constante de tempo: σ = ζωₙ = {sigma:.4f}\")\n",
    "    print(f\"   • Tempo de pico: Tp = π/ωₐ = {Tp:.2f} s\")\n",
    "    \n",
    "    print(f\"\\n7. TEMPO DE ACOMODAÇÃO:\")\n",
    "    print(f\"   • Critério 2%: ts = 4/σ = 4/{sigma:.4f} = {Ts_2pct:.2f} s\")\n",
    "    print(f\"   • Critério 5%: ts = 3/σ = 3/{sigma:.4f} = {Ts_5pct:.2f} s\")\n",
    "    \n",
    "    # Verificar se está na faixa válida do item (c)\n",
    "    faixa_valida = 0 < kp < 0.3365\n",
    "    print(f\"\\n8. VALIDAÇÃO:\")\n",
    "    print(f\"   Faixa válida do item (c): 0 < Kp < 0.3365\")\n",
    "    print(f\"   Kp calculado = {kp:.4f}\")\n",
    "    print(f\"   Status: {'✓ VÁLIDO' if faixa_valida else '✗ INVÁLIDO'}\")\n",
    "    \n",
    "    return kp, zeta, omega_n, {\n",
    "        'zeta': zeta,\n",
    "        'omega_n': omega_n,\n",
    "        'omega_d': omega_d,\n",
    "        'sigma': sigma,\n",
    "        'Tp': Tp,\n",
    "        'Ts_2pct': Ts_2pct,\n",
    "        'Ts_5pct': Ts_5pct,\n",
    "        'Mp': Mp_desejado,\n",
    "        'kp': kp\n",
    "    }\n",
    "\n",
    "# Executar análise\n",
    "kp_calculado, zeta_calc, omega_n_calc, parametros = analise_matematica_completa()"
   ]
  },
  {
   "cell_type": "code",
   "execution_count": 18,
   "id": "b6abbda7",
   "metadata": {},
   "outputs": [],
   "source": [
    "## 📝 4. Apresentação Matemática em LaTeX"
   ]
  },
  {
   "cell_type": "code",
   "execution_count": 23,
   "id": "e177d71a",
   "metadata": {},
   "outputs": [
    {
     "name": "stdout",
     "output_type": "stream",
     "text": [
      "📝 APRESENTAÇÃO MATEMÁTICA EM LaTeX\n",
      "================================================================================\n"
     ]
    },
    {
     "data": {
      "text/latex": [
       "$\\displaystyle \\text{Especificação: Overshoot } M_p = 15\\% = 0.15$"
      ],
      "text/plain": [
       "<IPython.core.display.Math object>"
      ]
     },
     "metadata": {},
     "output_type": "display_data"
    },
    {
     "data": {
      "text/latex": [
       "$\\displaystyle \\text{Relação Overshoot-Amortecimento:}$"
      ],
      "text/plain": [
       "<IPython.core.display.Math object>"
      ]
     },
     "metadata": {},
     "output_type": "display_data"
    },
    {
     "data": {
      "text/latex": [
       "$\\displaystyle M_p = e^{\\left( \\frac{-\\zeta\\pi}{\\sqrt{1-\\zeta^2}} \\right)}$"
      ],
      "text/plain": [
       "<IPython.core.display.Math object>"
      ]
     },
     "metadata": {},
     "output_type": "display_data"
    },
    {
     "data": {
      "text/latex": [
       "$\\displaystyle \\text{Resolvendo para } \\zeta \\text{:}$"
      ],
      "text/plain": [
       "<IPython.core.display.Math object>"
      ]
     },
     "metadata": {},
     "output_type": "display_data"
    },
    {
     "data": {
      "text/latex": [
       "$\\displaystyle \\ln(M_p) = -\\frac{\\zeta\\pi}{\\sqrt{1-\\zeta^2}}$"
      ],
      "text/plain": [
       "<IPython.core.display.Math object>"
      ]
     },
     "metadata": {},
     "output_type": "display_data"
    },
    {
     "data": {
      "text/latex": [
       "$\\displaystyle \\zeta = \\sqrt{\\frac{\\ln^2(M_p)}{\\pi^2 + \\ln^2(M_p)}}$"
      ],
      "text/plain": [
       "<IPython.core.display.Math object>"
      ]
     },
     "metadata": {},
     "output_type": "display_data"
    },
    {
     "data": {
      "text/latex": [
       "$\\displaystyle \\text{Substituindo } M_p = 0.15\\text{:}$"
      ],
      "text/plain": [
       "<IPython.core.display.Math object>"
      ]
     },
     "metadata": {},
     "output_type": "display_data"
    },
    {
     "data": {
      "text/latex": [
       "$\\displaystyle \\ln(0.15) = -1.897$"
      ],
      "text/plain": [
       "<IPython.core.display.Math object>"
      ]
     },
     "metadata": {},
     "output_type": "display_data"
    },
    {
     "data": {
      "text/latex": [
       "$\\displaystyle \\zeta = \\sqrt{\\frac{(-1.897)^2}{\\pi^2 + (-1.897)^2}} = \\sqrt{\\frac{3.598}{9.870 + 3.598}} = 0.517$"
      ],
      "text/plain": [
       "<IPython.core.display.Math object>"
      ]
     },
     "metadata": {},
     "output_type": "display_data"
    },
    {
     "data": {
      "text/latex": [
       "$\\displaystyle \\text{Polinômio Característico (item c):}$"
      ],
      "text/plain": [
       "<IPython.core.display.Math object>"
      ]
     },
     "metadata": {},
     "output_type": "display_data"
    },
    {
     "data": {
      "text/latex": [
       "$\\displaystyle P(s) = s^2 + 0.216s + (0.0969 - 0.2533 K_p)$"
      ],
      "text/plain": [
       "<IPython.core.display.Math object>"
      ]
     },
     "metadata": {},
     "output_type": "display_data"
    },
    {
     "data": {
      "text/latex": [
       "$\\displaystyle \\text{Forma Padrão:}$"
      ],
      "text/plain": [
       "<IPython.core.display.Math object>"
      ]
     },
     "metadata": {},
     "output_type": "display_data"
    },
    {
     "data": {
      "text/latex": [
       "$\\displaystyle s^2 + 2\\zeta\\omega_n s + \\omega_n^2$"
      ],
      "text/plain": [
       "<IPython.core.display.Math object>"
      ]
     },
     "metadata": {},
     "output_type": "display_data"
    },
    {
     "data": {
      "text/latex": [
       "$\\displaystyle \\text{Comparando coeficientes:}$"
      ],
      "text/plain": [
       "<IPython.core.display.Math object>"
      ]
     },
     "metadata": {},
     "output_type": "display_data"
    },
    {
     "data": {
      "text/latex": [
       "$\\displaystyle 2\\zeta\\omega_n = 0.216$"
      ],
      "text/plain": [
       "<IPython.core.display.Math object>"
      ]
     },
     "metadata": {},
     "output_type": "display_data"
    },
    {
     "data": {
      "text/latex": [
       "$\\displaystyle \\omega_n^2 = 0.0969 - 0.2533 K_p$"
      ],
      "text/plain": [
       "<IPython.core.display.Math object>"
      ]
     },
     "metadata": {},
     "output_type": "display_data"
    },
    {
     "data": {
      "text/latex": [
       "$\\displaystyle \\text{Da primeira relação:}$"
      ],
      "text/plain": [
       "<IPython.core.display.Math object>"
      ]
     },
     "metadata": {},
     "output_type": "display_data"
    },
    {
     "data": {
      "text/latex": [
       "$\\displaystyle \\omega_n = \\frac{0.216}{2\\zeta} = \\frac{0.216}{2 \\times 0.517} = 0.2089 \\text{ rad/s}$"
      ],
      "text/plain": [
       "<IPython.core.display.Math object>"
      ]
     },
     "metadata": {},
     "output_type": "display_data"
    },
    {
     "data": {
      "text/latex": [
       "$\\displaystyle \\text{Da segunda relação:}$"
      ],
      "text/plain": [
       "<IPython.core.display.Math object>"
      ]
     },
     "metadata": {},
     "output_type": "display_data"
    },
    {
     "data": {
      "text/latex": [
       "$\\displaystyle \\omega_n^2 = (0.2089)^2 = 0.0436$"
      ],
      "text/plain": [
       "<IPython.core.display.Math object>"
      ]
     },
     "metadata": {},
     "output_type": "display_data"
    },
    {
     "data": {
      "text/latex": [
       "$\\displaystyle 0.0436 = 0.0969 - 0.2533 K_p$"
      ],
      "text/plain": [
       "<IPython.core.display.Math object>"
      ]
     },
     "metadata": {},
     "output_type": "display_data"
    },
    {
     "data": {
      "text/latex": [
       "$\\displaystyle 0.2533 K_p = 0.0969 - 0.0436 = 0.0533$"
      ],
      "text/plain": [
       "<IPython.core.display.Math object>"
      ]
     },
     "metadata": {},
     "output_type": "display_data"
    },
    {
     "data": {
      "text/latex": [
       "$\\displaystyle K_p = \\frac{0.0533}{0.2533} = 0.2104$"
      ],
      "text/plain": [
       "<IPython.core.display.Math object>"
      ]
     },
     "metadata": {},
     "output_type": "display_data"
    },
    {
     "data": {
      "text/latex": [
       "$\\displaystyle \\text{Tempo de Acomodação:}$"
      ],
      "text/plain": [
       "<IPython.core.display.Math object>"
      ]
     },
     "metadata": {},
     "output_type": "display_data"
    },
    {
     "data": {
      "text/latex": [
       "$\\displaystyle \\sigma = \\zeta\\omega_n = 0.517 \\times 0.2089 = 0.108$"
      ],
      "text/plain": [
       "<IPython.core.display.Math object>"
      ]
     },
     "metadata": {},
     "output_type": "display_data"
    },
    {
     "data": {
      "text/latex": [
       "$\\displaystyle \\text{Critério 5\\%: } t_s = \\frac{3}{\\sigma} = \\frac{3}{0.108} = 27.8 \\text{ s}$"
      ],
      "text/plain": [
       "<IPython.core.display.Math object>"
      ]
     },
     "metadata": {},
     "output_type": "display_data"
    },
    {
     "data": {
      "text/latex": [
       "$\\displaystyle \\text{Critério 2\\%: } t_s = \\frac{4}{\\sigma} = \\frac{4}{0.108} = 37.0 \\text{ s}$"
      ],
      "text/plain": [
       "<IPython.core.display.Math object>"
      ]
     },
     "metadata": {},
     "output_type": "display_data"
    },
    {
     "data": {
      "text/latex": [
       "$\\displaystyle \\text{Resultados Finais:}$"
      ],
      "text/plain": [
       "<IPython.core.display.Math object>"
      ]
     },
     "metadata": {},
     "output_type": "display_data"
    },
    {
     "data": {
      "text/latex": [
       "$\\displaystyle \\boxed{K_p = 0.2104}$"
      ],
      "text/plain": [
       "<IPython.core.display.Math object>"
      ]
     },
     "metadata": {},
     "output_type": "display_data"
    },
    {
     "data": {
      "text/latex": [
       "$\\displaystyle \\boxed{t_s = 27.8 \\text{ s (5\\%)} \\text{ ou } 37.0 \\text{ s (2\\%)}}$"
      ],
      "text/plain": [
       "<IPython.core.display.Math object>"
      ]
     },
     "metadata": {},
     "output_type": "display_data"
    }
   ],
   "source": [
    "def apresentacao_latex_completa():\n",
    "    \"\"\"\n",
    "    Apresenta toda a análise matemática usando LaTeX formatado.\n",
    "    \"\"\"\n",
    "    print(\"📝 APRESENTAÇÃO MATEMÁTICA EM LaTeX\")\n",
    "    print(\"=\" * 80)\n",
    "    \n",
    "    if not sympy_available:\n",
    "        print(\"⚠️ Sympy não disponível - usando apresentação em texto\")\n",
    "        return\n",
    "    \n",
    "    # Especificação do problema\n",
    "    display(Math(r'\\text{Especificação: Overshoot } M_p = 15\\% = 0.15'))\n",
    "    \n",
    "    # Relação overshoot-amortecimento\n",
    "    display(Math(r'\\text{Relação Overshoot-Amortecimento:}'))\n",
    "    display(Math(r'M_p = e^{\\left( \\frac{-\\zeta\\pi}{\\sqrt{1-\\zeta^2}} \\right)}'))\n",
    "    \n",
    "    display(Math(r'\\text{Resolvendo para } \\zeta \\text{:}'))\n",
    "    display(Math(r'\\ln(M_p) = -\\frac{\\zeta\\pi}{\\sqrt{1-\\zeta^2}}'))\n",
    "    \n",
    "    display(Math(r'\\zeta = \\sqrt{\\frac{\\ln^2(M_p)}{\\pi^2 + \\ln^2(M_p)}}'))\n",
    "    \n",
    "    # Substituição numérica\n",
    "    display(Math(r'\\text{Substituindo } M_p = 0.15\\text{:}'))\n",
    "    display(Math(r'\\ln(0.15) = -1.897'))\n",
    "    display(Math(r'\\zeta = \\sqrt{\\frac{(-1.897)^2}{\\pi^2 + (-1.897)^2}} = \\sqrt{\\frac{3.598}{9.870 + 3.598}} = 0.517'))\n",
    "    \n",
    "    # Polinômio característico\n",
    "    display(Math(r'\\text{Polinômio Característico (item c):}'))\n",
    "    display(Math(r'P(s) = s^2 + 0.216s + (0.0969 - 0.2533 K_p)'))\n",
    "    \n",
    "    display(Math(r'\\text{Forma Padrão:}'))\n",
    "    display(Math(r's^2 + 2\\zeta\\omega_n s + \\omega_n^2'))\n",
    "    \n",
    "    # Comparação de coeficientes\n",
    "    display(Math(r'\\text{Comparando coeficientes:}'))\n",
    "    display(Math(r'2\\zeta\\omega_n = 0.216'))\n",
    "    display(Math(r'\\omega_n^2 = 0.0969 - 0.2533 K_p'))\n",
    "    \n",
    "    # Cálculo de ωn\n",
    "    display(Math(r'\\text{Da primeira relação:}'))\n",
    "    display(Math(r'\\omega_n = \\frac{0.216}{2\\zeta} = \\frac{0.216}{2 \\times 0.517} = 0.2089 \\text{ rad/s}'))\n",
    "    \n",
    "    # Cálculo de Kp\n",
    "    display(Math(r'\\text{Da segunda relação:}'))\n",
    "    display(Math(r'\\omega_n^2 = (0.2089)^2 = 0.0436'))\n",
    "    display(Math(r'0.0436 = 0.0969 - 0.2533 K_p'))\n",
    "    display(Math(r'0.2533 K_p = 0.0969 - 0.0436 = 0.0533'))\n",
    "    display(Math(r'K_p = \\frac{0.0533}{0.2533} = 0.2104'))\n",
    "    \n",
    "    # Tempo de acomodação\n",
    "    display(Math(r'\\text{Tempo de Acomodação:}'))\n",
    "    display(Math(r'\\sigma = \\zeta\\omega_n = 0.517 \\times 0.2089 = 0.108'))\n",
    "    \n",
    "    display(Math(r'\\text{Critério 5\\%: } t_s = \\frac{3}{\\sigma} = \\frac{3}{0.108} = 27.8 \\text{ s}'))\n",
    "    display(Math(r'\\text{Critério 2\\%: } t_s = \\frac{4}{\\sigma} = \\frac{4}{0.108} = 37.0 \\text{ s}'))\n",
    "    \n",
    "    # Resultado final\n",
    "    display(Math(r'\\text{Resultados Finais:}'))\n",
    "    display(Math(r'\\boxed{K_p = 0.2104}'))\n",
    "    display(Math(r'\\boxed{t_s = 27.8 \\text{ s (5\\%)} \\text{ ou } 37.0 \\text{ s (2\\%)}}'))\n",
    "\n",
    "# Apresentar em LaTeX\n",
    "apresentacao_latex_completa()"
   ]
  },
  {
   "cell_type": "markdown",
   "id": "98433d2b",
   "metadata": {},
   "source": [
    "## 📊 5. Verificação e Simulação Numérica"
   ]
  },
  {
   "cell_type": "code",
   "execution_count": 20,
   "id": "5995f8a2",
   "metadata": {},
   "outputs": [
    {
     "name": "stdout",
     "output_type": "stream",
     "text": [
      "🔍 VERIFICAÇÃO NUMÉRICA COMPLETA\n",
      "================================================================================\n",
      "📈 RESULTADOS DA SIMULAÇÃO:\n",
      "   • Overshoot simulado: 15.00% (objetivo: 15.0%)\n",
      "   • Tempo de pico: 17.68 s (teórico: 17.57 s)\n",
      "   • Valor de pico: -1.4029\n",
      "   • Valor final: -1.2199\n",
      "   • Erro no overshoot: 0.003%\n",
      "\n",
      "✅ VALIDAÇÃO:\n",
      "   • Overshoot dentro da tolerância: ✓\n",
      "   • Kp na faixa válida (0 < Kp < 0.3365): ✓\n",
      "   • Sistema subamortecido: ✓\n",
      "\n",
      "🎯 RESULTADO FINAL:\n",
      "   Kp para overshoot de 15%: 0.2102\n",
      "   Overshoot obtido: 15.00%\n"
     ]
    }
   ],
   "source": [
    "# 📊 5. Verificação Numérica e Validação\n",
    "\n",
    "print(\"🔍 VERIFICAÇÃO NUMÉRICA COMPLETA\")\n",
    "print(\"=\" * 80)\n",
    "\n",
    "# Executar simulação com o Kp calculado\n",
    "overshoot_sim, tempo_pico_sim, valor_pico, valor_final, t, y = verificar_overshoot_simulacao(parametros['kp'])\n",
    "\n",
    "print(f\"📈 RESULTADOS DA SIMULAÇÃO:\")\n",
    "print(f\"   • Overshoot simulado: {overshoot_sim*100:.2f}% (objetivo: 15.0%)\")\n",
    "print(f\"   • Tempo de pico: {tempo_pico_sim:.2f} s (teórico: {parametros['Tp']:.2f} s)\")\n",
    "print(f\"   • Valor de pico: {valor_pico:.4f}\")\n",
    "print(f\"   • Valor final: {valor_final:.4f}\")\n",
    "print(f\"   • Erro no overshoot: {abs(0.15 - overshoot_sim)*100:.3f}%\")\n",
    "\n",
    "# Validação matemática\n",
    "print(f\"\\n✅ VALIDAÇÃO:\")\n",
    "print(f\"   • Overshoot dentro da tolerância: {'✓' if abs(0.15 - overshoot_sim) < 0.01 else '✗'}\")\n",
    "print(f\"   • Kp na faixa válida (0 < Kp < 0.3365): {'✓' if 0 < parametros['kp'] < 0.3365 else '✗'}\")\n",
    "print(f\"   • Sistema subamortecido: {'✓' if parametros['zeta'] < 1 else '✗'}\")\n",
    "\n",
    "# Salvar valores para uso posterior\n",
    "overshoot_verificado = overshoot_sim\n",
    "tempo_pico_verificado = tempo_pico_sim\n",
    "\n",
    "print(f\"\\n🎯 RESULTADO FINAL:\")\n",
    "print(f\"   Kp para overshoot de 15%: {parametros['kp']:.4f}\")\n",
    "print(f\"   Overshoot obtido: {overshoot_verificado*100:.2f}%\")"
   ]
  },
  {
   "cell_type": "markdown",
   "id": "d3fb0c36",
   "metadata": {},
   "source": [
    "## 🎯 6. Conclusões e Resultados Finais"
   ]
  },
  {
   "cell_type": "code",
   "execution_count": 21,
   "id": "3b496781",
   "metadata": {},
   "outputs": [
    {
     "name": "stdout",
     "output_type": "stream",
     "text": [
      "🎯 CONCLUSÕES FINAIS - ITEM (d)\n",
      "================================================================================\n",
      "\n",
      "📋 RESUMO DA ANÁLISE:\n",
      "--------------------------------------------------\n",
      "✓ Objetivo: Determinar Kp para overshoot de 15%\n",
      "✓ Sistema: Malha fechada com sistema reduzido de 2ª ordem\n",
      "✓ Base teórica: Relação Mp = exp(-ζπ/√(1-ζ²))\n",
      "✓ Método: Comparação com forma padrão de 2ª ordem\n",
      "\n",
      "🧮 DESENVOLVIMENTO MATEMÁTICO:\n",
      "--------------------------------------------------\n",
      "• Overshoot especificado: 15%\n",
      "• Coeficiente de amortecimento: ζ = 0.5169\n",
      "• Frequência natural: ωₙ = 0.2089 rad/s\n",
      "• Polinômio característico: s² + 0.216s + (0.0969 - 0.2533*Kp)\n",
      "• Comparação: 2ζωₙ = 0.216, ωₙ² = 0.0969 - 0.2533*Kp\n",
      "\n",
      "📊 RESULTADOS PRINCIPAIS:\n",
      "--------------------------------------------------\n",
      "1. GANHO PROPORCIONAL:\n",
      "   📌 Kp = 0.2102\n",
      "\n",
      "2. TEMPO DE ACOMODAÇÃO:\n",
      "   📌 Critério 5%: ts = 27.8 segundos\n",
      "   📌 Critério 2%: ts = 37.0 segundos\n",
      "\n",
      "3. OUTROS PARÂMETROS:\n",
      "   • Tempo de pico: 17.6 s\n",
      "   • Frequência amortecida: 0.1788 rad/s\n",
      "   • Constante de tempo: σ = 0.1080\n",
      "\n",
      "✅ VERIFICAÇÃO NUMÉRICA:\n",
      "--------------------------------------------------\n",
      "• Overshoot teórico: 15.0%\n",
      "• Overshoot simulado: 15.0%\n",
      "• Erro absoluto: 0.00%\n",
      "• Tempo de pico teórico: 17.6 s\n",
      "• Tempo de pico simulado: 17.7 s\n",
      "\n",
      "🔍 VALIDAÇÕES:\n",
      "--------------------------------------------------\n",
      "• Faixa válida do item (c): 0 < Kp < 0.3365\n",
      "• Kp calculado: 0.2102\n",
      "• Status: ✓ DENTRO DA FAIXA VÁLIDA\n",
      "• Comportamento: ✓ SUBAMORTECIDO\n",
      "• Sistema: ✓ ESTÁVEL\n",
      "\n",
      "📈 CARACTERÍSTICAS DA RESPOSTA:\n",
      "--------------------------------------------------\n",
      "• Resposta oscilatória com envelope decrescente\n",
      "• Overshoot de exatamente 15%\n",
      "• 17.6 oscilações por minuto aproximadamente\n",
      "• Acomodação em 28-37 segundos\n",
      "\n",
      "⚠️ OBSERVAÇÕES IMPORTANTES:\n",
      "--------------------------------------------------\n",
      "• Análise baseada no sistema reduzido de 2ª ordem\n",
      "• Configuração de malha fechada com realimentação unitária\n",
      "• Controlador puramente proporcional (sem integral ou derivativo)\n",
      "• Resultados válidos para pequenas perturbações em torno do ponto de operação\n",
      "\n",
      "================================================================================\n",
      "📝 RESPOSTA AO ITEM (d):\n",
      "\n",
      "🎯 O ganho proporcional que resulta em overshoot de 15% é:\n",
      "                    Kp = 0.2102\n",
      "\n",
      "⏱️ O tempo de acomodação esperado é:\n",
      "    • Critério 5%: 27.8 segundos\n",
      "    • Critério 2%: 37.0 segundos\n",
      "\n",
      "================================================================================\n"
     ]
    }
   ],
   "source": [
    "print(\"🎯 CONCLUSÕES FINAIS - ITEM (d)\")\n",
    "print(\"=\" * 80)\n",
    "\n",
    "print(\"\\n📋 RESUMO DA ANÁLISE:\")\n",
    "print(\"-\" * 50)\n",
    "print(\"✓ Objetivo: Determinar Kp para overshoot de 15%\")\n",
    "print(\"✓ Sistema: Malha fechada com sistema reduzido de 2ª ordem\")\n",
    "print(\"✓ Base teórica: Relação Mp = exp(-ζπ/√(1-ζ²))\")\n",
    "print(\"✓ Método: Comparação com forma padrão de 2ª ordem\")\n",
    "\n",
    "print(\"\\n🧮 DESENVOLVIMENTO MATEMÁTICO:\")\n",
    "print(\"-\" * 50)\n",
    "print(f\"• Overshoot especificado: 15%\")\n",
    "print(f\"• Coeficiente de amortecimento: ζ = {parametros['zeta']:.4f}\")\n",
    "print(f\"• Frequência natural: ωₙ = {parametros['omega_n']:.4f} rad/s\")\n",
    "print(f\"• Polinômio característico: s² + 0.216s + (0.0969 - 0.2533*Kp)\")\n",
    "print(f\"• Comparação: 2ζωₙ = 0.216, ωₙ² = 0.0969 - 0.2533*Kp\")\n",
    "\n",
    "print(\"\\n📊 RESULTADOS PRINCIPAIS:\")\n",
    "print(\"-\" * 50)\n",
    "print(\"1. GANHO PROPORCIONAL:\")\n",
    "print(f\"   📌 Kp = {parametros['kp']:.4f}\")\n",
    "\n",
    "print(\"\\n2. TEMPO DE ACOMODAÇÃO:\")\n",
    "print(f\"   📌 Critério 5%: ts = {parametros['Ts_5pct']:.1f} segundos\")\n",
    "print(f\"   📌 Critério 2%: ts = {parametros['Ts_2pct']:.1f} segundos\")\n",
    "\n",
    "print(\"\\n3. OUTROS PARÂMETROS:\")\n",
    "print(f\"   • Tempo de pico: {parametros['Tp']:.1f} s\")\n",
    "print(f\"   • Frequência amortecida: {parametros['omega_d']:.4f} rad/s\")\n",
    "print(f\"   • Constante de tempo: σ = {parametros['sigma']:.4f}\")\n",
    "\n",
    "print(\"\\n✅ VERIFICAÇÃO NUMÉRICA:\")\n",
    "print(\"-\" * 50)\n",
    "print(f\"• Overshoot teórico: 15.0%\")\n",
    "print(f\"• Overshoot simulado: {overshoot_verificado*100:.1f}%\")\n",
    "print(f\"• Erro absoluto: {abs(0.15 - overshoot_verificado)*100:.2f}%\")\n",
    "print(f\"• Tempo de pico teórico: {parametros['Tp']:.1f} s\")\n",
    "print(f\"• Tempo de pico simulado: {tempo_pico_verificado:.1f} s\")\n",
    "\n",
    "print(\"\\n🔍 VALIDAÇÕES:\")\n",
    "print(\"-\" * 50)\n",
    "faixa_valida = 0 < parametros['kp'] < 0.3365\n",
    "print(f\"• Faixa válida do item (c): 0 < Kp < 0.3365\")\n",
    "print(f\"• Kp calculado: {parametros['kp']:.4f}\")\n",
    "print(f\"• Status: {'✓ DENTRO DA FAIXA VÁLIDA' if faixa_valida else '✗ FORA DA FAIXA VÁLIDA'}\")\n",
    "print(f\"• Comportamento: {'✓ SUBAMORTECIDO' if faixa_valida else '✗ NÃO SUBAMORTECIDO'}\")\n",
    "print(f\"• Sistema: {'✓ ESTÁVEL' if faixa_valida else '✗ INSTÁVEL'}\")\n",
    "\n",
    "print(\"\\n📈 CARACTERÍSTICAS DA RESPOSTA:\")\n",
    "print(\"-\" * 50)\n",
    "print(\"• Resposta oscilatória com envelope decrescente\")\n",
    "print(f\"• Overshoot de exatamente 15%\")\n",
    "print(f\"• {parametros['Tp']:.1f} oscilações por minuto aproximadamente\")\n",
    "print(f\"• Acomodação em {parametros['Ts_5pct']:.0f}-{parametros['Ts_2pct']:.0f} segundos\")\n",
    "\n",
    "print(\"\\n⚠️ OBSERVAÇÕES IMPORTANTES:\")\n",
    "print(\"-\" * 50)\n",
    "print(\"• Análise baseada no sistema reduzido de 2ª ordem\")\n",
    "print(\"• Configuração de malha fechada com realimentação unitária\")\n",
    "print(\"• Controlador puramente proporcional (sem integral ou derivativo)\")\n",
    "print(\"• Resultados válidos para pequenas perturbações em torno do ponto de operação\")\n",
    "\n",
    "print(\"\\n\" + \"=\" * 80)\n",
    "print(\"📝 RESPOSTA AO ITEM (d):\")\n",
    "print(\"\")\n",
    "print(\"🎯 O ganho proporcional que resulta em overshoot de 15% é:\")\n",
    "print(f\"                    Kp = {parametros['kp']:.4f}\")\n",
    "print(\"\")\n",
    "print(\"⏱️ O tempo de acomodação esperado é:\")\n",
    "print(f\"    • Critério 5%: {parametros['Ts_5pct']:.1f} segundos\")\n",
    "print(f\"    • Critério 2%: {parametros['Ts_2pct']:.1f} segundos\")\n",
    "print(\"\")\n",
    "print(\"=\" * 80)"
   ]
  },
  {
   "cell_type": "code",
   "execution_count": 22,
   "id": "82bdc99b",
   "metadata": {},
   "outputs": [
    {
     "name": "stdout",
     "output_type": "stream",
     "text": [
      "🎯 RESUMO DO ITEM (d)\n",
      "==================================================\n",
      "Kp calculado: 0.2102\n",
      "Overshoot esperado: 15.0%\n",
      "Tempo de acomodação (5%): 27.8 s\n",
      "Tempo de acomodação (2%): 37.0 s\n"
     ]
    }
   ],
   "source": [
    "# Teste simples para verificar o resultado\n",
    "print(\"🎯 RESUMO DO ITEM (d)\")\n",
    "print(\"=\" * 50)\n",
    "print(f\"Kp calculado: {parametros['kp']:.4f}\")\n",
    "print(f\"Overshoot esperado: 15.0%\")\n",
    "print(f\"Tempo de acomodação (5%): {parametros['Ts_5pct']:.1f} s\")\n",
    "print(f\"Tempo de acomodação (2%): {parametros['Ts_2pct']:.1f} s\")"
   ]
  }
 ],
 "metadata": {
  "kernelspec": {
   "display_name": "Python 3",
   "language": "python",
   "name": "python3"
  },
  "language_info": {
   "codemirror_mode": {
    "name": "ipython",
    "version": 3
   },
   "file_extension": ".py",
   "mimetype": "text/x-python",
   "name": "python",
   "nbconvert_exporter": "python",
   "pygments_lexer": "ipython3",
   "version": "3.12.5"
  }
 },
 "nbformat": 4,
 "nbformat_minor": 5
}
